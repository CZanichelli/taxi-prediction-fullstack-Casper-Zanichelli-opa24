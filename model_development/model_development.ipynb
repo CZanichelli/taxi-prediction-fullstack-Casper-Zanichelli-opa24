{
 "cells": [
  {
   "cell_type": "markdown",
   "id": "80be9d21",
   "metadata": {},
   "source": [
    "## Explore the model of choice"
   ]
  },
  {
   "cell_type": "code",
   "execution_count": 1,
   "id": "c09d0806",
   "metadata": {},
   "outputs": [],
   "source": [
    "import pandas as pd\n",
    "import numpy as np\n",
    "#load in datasets\n",
    "\n",
    "training_data = pd.read_csv(\"../src/taxipred/data/cleaned_training_data.csv\")\n",
    "testing_data = pd.read_csv(\"../src/taxipred/data/cleaned_testing_data.csv\")"
   ]
  },
  {
   "cell_type": "code",
   "execution_count": 2,
   "id": "5e292e40",
   "metadata": {},
   "outputs": [
    {
     "data": {
      "text/html": [
       "<div>\n",
       "<style scoped>\n",
       "    .dataframe tbody tr th:only-of-type {\n",
       "        vertical-align: middle;\n",
       "    }\n",
       "\n",
       "    .dataframe tbody tr th {\n",
       "        vertical-align: top;\n",
       "    }\n",
       "\n",
       "    .dataframe thead th {\n",
       "        text-align: right;\n",
       "    }\n",
       "</style>\n",
       "<table border=\"1\" class=\"dataframe\">\n",
       "  <thead>\n",
       "    <tr style=\"text-align: right;\">\n",
       "      <th></th>\n",
       "      <th>Trip_Distance_km</th>\n",
       "      <th>Trip_Duration_Minutes</th>\n",
       "      <th>Traffic_Encoded</th>\n",
       "      <th>Trip_Price</th>\n",
       "    </tr>\n",
       "  </thead>\n",
       "  <tbody>\n",
       "    <tr>\n",
       "      <th>0</th>\n",
       "      <td>19.35</td>\n",
       "      <td>53.82</td>\n",
       "      <td>0</td>\n",
       "      <td>36.2624</td>\n",
       "    </tr>\n",
       "    <tr>\n",
       "      <th>1</th>\n",
       "      <td>36.87</td>\n",
       "      <td>37.27</td>\n",
       "      <td>2</td>\n",
       "      <td>52.9032</td>\n",
       "    </tr>\n",
       "    <tr>\n",
       "      <th>2</th>\n",
       "      <td>30.33</td>\n",
       "      <td>116.81</td>\n",
       "      <td>0</td>\n",
       "      <td>36.4698</td>\n",
       "    </tr>\n",
       "    <tr>\n",
       "      <th>3</th>\n",
       "      <td>25.87</td>\n",
       "      <td>22.64</td>\n",
       "      <td>2</td>\n",
       "      <td>15.6180</td>\n",
       "    </tr>\n",
       "    <tr>\n",
       "      <th>4</th>\n",
       "      <td>8.64</td>\n",
       "      <td>89.33</td>\n",
       "      <td>1</td>\n",
       "      <td>60.2028</td>\n",
       "    </tr>\n",
       "  </tbody>\n",
       "</table>\n",
       "</div>"
      ],
      "text/plain": [
       "   Trip_Distance_km  Trip_Duration_Minutes  Traffic_Encoded  Trip_Price\n",
       "0             19.35                  53.82                0     36.2624\n",
       "1             36.87                  37.27                2     52.9032\n",
       "2             30.33                 116.81                0     36.4698\n",
       "3             25.87                  22.64                2     15.6180\n",
       "4              8.64                  89.33                1     60.2028"
      ]
     },
     "execution_count": 2,
     "metadata": {},
     "output_type": "execute_result"
    }
   ],
   "source": [
    "training_data.head()"
   ]
  },
  {
   "cell_type": "code",
   "execution_count": 3,
   "id": "7d462a64",
   "metadata": {},
   "outputs": [
    {
     "data": {
      "text/html": [
       "<div>\n",
       "<style scoped>\n",
       "    .dataframe tbody tr th:only-of-type {\n",
       "        vertical-align: middle;\n",
       "    }\n",
       "\n",
       "    .dataframe tbody tr th {\n",
       "        vertical-align: top;\n",
       "    }\n",
       "\n",
       "    .dataframe thead th {\n",
       "        text-align: right;\n",
       "    }\n",
       "</style>\n",
       "<table border=\"1\" class=\"dataframe\">\n",
       "  <thead>\n",
       "    <tr style=\"text-align: right;\">\n",
       "      <th></th>\n",
       "      <th>Trip_Distance_km</th>\n",
       "      <th>Trip_Duration_Minutes</th>\n",
       "      <th>Traffic_Encoded</th>\n",
       "      <th>Trip_Price</th>\n",
       "    </tr>\n",
       "  </thead>\n",
       "  <tbody>\n",
       "    <tr>\n",
       "      <th>0</th>\n",
       "      <td>47.59</td>\n",
       "      <td>40.57</td>\n",
       "      <td>2</td>\n",
       "      <td>NaN</td>\n",
       "    </tr>\n",
       "    <tr>\n",
       "      <th>1</th>\n",
       "      <td>30.45</td>\n",
       "      <td>110.33</td>\n",
       "      <td>2</td>\n",
       "      <td>NaN</td>\n",
       "    </tr>\n",
       "    <tr>\n",
       "      <th>2</th>\n",
       "      <td>48.53</td>\n",
       "      <td>79.94</td>\n",
       "      <td>0</td>\n",
       "      <td>NaN</td>\n",
       "    </tr>\n",
       "    <tr>\n",
       "      <th>3</th>\n",
       "      <td>4.19</td>\n",
       "      <td>69.06</td>\n",
       "      <td>0</td>\n",
       "      <td>NaN</td>\n",
       "    </tr>\n",
       "    <tr>\n",
       "      <th>4</th>\n",
       "      <td>38.78</td>\n",
       "      <td>90.14</td>\n",
       "      <td>1</td>\n",
       "      <td>NaN</td>\n",
       "    </tr>\n",
       "  </tbody>\n",
       "</table>\n",
       "</div>"
      ],
      "text/plain": [
       "   Trip_Distance_km  Trip_Duration_Minutes  Traffic_Encoded  Trip_Price\n",
       "0             47.59                  40.57                2         NaN\n",
       "1             30.45                 110.33                2         NaN\n",
       "2             48.53                  79.94                0         NaN\n",
       "3              4.19                  69.06                0         NaN\n",
       "4             38.78                  90.14                1         NaN"
      ]
     },
     "execution_count": 3,
     "metadata": {},
     "output_type": "execute_result"
    }
   ],
   "source": [
    "testing_data.head()"
   ]
  },
  {
   "cell_type": "markdown",
   "id": "7d5b6054",
   "metadata": {},
   "source": [
    "## Linear Regression"
   ]
  },
  {
   "cell_type": "code",
   "execution_count": 4,
   "id": "d002c138",
   "metadata": {},
   "outputs": [],
   "source": [
    "# Define X and y for training data\n",
    "\n",
    "X_train = training_data[['Trip_Distance_km', 'Trip_Duration_Minutes', 'Traffic_Encoded']]\n",
    "y_train = training_data['Trip_Price']\n",
    "\n",
    "# Define X and y for testing data\n",
    "\n",
    "X_test = testing_data[['Trip_Distance_km', 'Trip_Duration_Minutes', 'Traffic_Encoded']]\n",
    "y_test = testing_data['Trip_Price']"
   ]
  },
  {
   "cell_type": "code",
   "execution_count": 6,
   "id": "9d09fefc",
   "metadata": {},
   "outputs": [],
   "source": [
    "#Scaling the data\n",
    "from sklearn.preprocessing import MinMaxScaler\n",
    "\n",
    "scaler = MinMaxScaler()\n",
    "\n",
    "X_train_scaled = scaler.fit_transform(X_train)\n",
    "\n",
    "X_test_scaled = scaler.transform(X_test)"
   ]
  },
  {
   "cell_type": "code",
   "execution_count": 8,
   "id": "c405e167",
   "metadata": {},
   "outputs": [
    {
     "name": "stdout",
     "output_type": "stream",
     "text": [
      "Parameters: [57.03677178 32.09135799 -1.34041199]\n",
      "Intercept parameter: 8.515136123163735\n"
     ]
    }
   ],
   "source": [
    "# Create model LinearRegression\n",
    "\n",
    "from sklearn.linear_model import LinearRegression\n",
    "\n",
    "model_lr = LinearRegression()\n",
    "\n",
    "model_lr.fit(X_train_scaled, y_train)\n",
    "\n",
    "print(f\"Parameters: {model_lr.coef_}\")\n",
    "print(f\"Intercept parameter: {model_lr.intercept_}\")\n"
   ]
  },
  {
   "cell_type": "code",
   "execution_count": 10,
   "id": "a60d0db9",
   "metadata": {},
   "outputs": [
    {
     "name": "stdout",
     "output_type": "stream",
     "text": [
      "Faktiska features: [[0.95077933 0.30967517 1.        ]], Faktisk pris (label): nan\n",
      "Prediction: 71.34 kr\n"
     ]
    }
   ],
   "source": [
    "test_sample_features = X_test_scaled[0].reshape(1,-1)\n",
    "test_sample_target = y_test.values[0]\n",
    "\n",
    "\n",
    "print(f\"Faktiska features: {test_sample_features}, Faktisk pris (label): {test_sample_target}\")\n",
    "print(f\"Prediction: {model_lr.predict(test_sample_features)[0]:.2f} kr\")"
   ]
  },
  {
   "cell_type": "code",
   "execution_count": 11,
   "id": "af3a9a45",
   "metadata": {},
   "outputs": [],
   "source": [
    "y_pred_lr = model_lr.predict(X_test_scaled)"
   ]
  },
  {
   "cell_type": "code",
   "execution_count": null,
   "id": "4eadd8fb",
   "metadata": {},
   "outputs": [],
   "source": [
    "# Kunde ej utvärdera då y_test saknade kända priser\n",
    "\n",
    "#from sklearn.metrics import mean_absolute_error, mean_squared_error, r2_score\n",
    "\n",
    "#mask = y_test.notna()\n",
    "\n",
    "#y_test_clean = y_test[mask]\n",
    "#y_pred_lr_clean = y_pred_lr[mask]\n",
    "\n",
    "#mae = mean_absolute_error(y_test_clean, y_pred_lr_clean)\n",
    "#mse = mean_squared_error(y_test_clean, y_pred_lr_clean)\n",
    "#rmse = np.sqrt(mse)\n",
    "#r2 = r2_score(y_test_clean, y_pred_lr_clean)\n",
    "\n",
    "#print(f\"MAE: {mae:.2f}, MSE: {mse:.2f}, RMSE: {rmse:.2f}, R2: {r2:.2f}\")"
   ]
  },
  {
   "cell_type": "markdown",
   "id": "01173707",
   "metadata": {},
   "source": [
    "## Random Forest"
   ]
  }
 ],
 "metadata": {
  "kernelspec": {
   "display_name": "taxi-prediction-fullstack-Casper-Zanichelli-opa24",
   "language": "python",
   "name": "python3"
  },
  "language_info": {
   "codemirror_mode": {
    "name": "ipython",
    "version": 3
   },
   "file_extension": ".py",
   "mimetype": "text/x-python",
   "name": "python",
   "nbconvert_exporter": "python",
   "pygments_lexer": "ipython3",
   "version": "3.12.2"
  }
 },
 "nbformat": 4,
 "nbformat_minor": 5
}
